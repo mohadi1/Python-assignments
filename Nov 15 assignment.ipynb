{
 "cells": [
  {
   "cell_type": "code",
   "execution_count": 4,
   "id": "4389e06b",
   "metadata": {},
   "outputs": [],
   "source": [
    "fileObject=open(\"data.txt\",\"r\")\n"
   ]
  },
  {
   "cell_type": "code",
   "execution_count": 5,
   "id": "c867989b",
   "metadata": {},
   "outputs": [],
   "source": [
    "text=fileObject.read()"
   ]
  },
  {
   "cell_type": "code",
   "execution_count": 6,
   "id": "62cbc078",
   "metadata": {},
   "outputs": [
    {
     "name": "stdout",
     "output_type": "stream",
     "text": [
      "this is a sample text document\n"
     ]
    }
   ],
   "source": [
    "print(text)"
   ]
  },
  {
   "cell_type": "code",
   "execution_count": 19,
   "id": "ebcbcacc",
   "metadata": {},
   "outputs": [
    {
     "name": "stdout",
     "output_type": "stream",
     "text": [
      "21\n"
     ]
    }
   ],
   "source": [
    "\n",
    "def Fact(n):\n",
    "    i=1\n",
    "    fileobj=open(\"data.txt\",\"w\")\n",
    "    if(n==0 or n==1): \n",
    "        fileobj.write(str(n))\n",
    "    while i in range(n):\n",
    "        if(n%i==0):\n",
    "            fileobj.write(str(i))\n",
    "        i+=1\n",
    "    fileobj.close()\n",
    "\n",
    "n=int(input())\n",
    "Fact(n)\n",
    "        "
   ]
  },
  {
   "cell_type": "code",
   "execution_count": 20,
   "id": "ffa9e2fa",
   "metadata": {},
   "outputs": [
    {
     "name": "stdout",
     "output_type": "stream",
     "text": [
      "Give the no: 34\n",
      "Factors of  34  are  [1, 2, 17, 34]\n"
     ]
    },
    {
     "data": {
      "text/plain": [
       "10"
      ]
     },
     "execution_count": 20,
     "metadata": {},
     "output_type": "execute_result"
    }
   ],
   "source": [
    "def findfactors(num):\n",
    "    a=[]\n",
    "    for i in range(1,num+1):\n",
    "        if num % i == 0:\n",
    "            a.append(i)\n",
    "    return a\n",
    "user=int(input(\"Give the no: \"))\n",
    "print(\"Factors of \",user,\" are \",findfactors(user))\n",
    "fhand = open(\"data.txt\",\"w\")\n",
    "str1=''\n",
    "for i in findfactors(user):\n",
    "    str1 = str1 + \" \" +str(i)\n",
    "fhand.write(str1)"
   ]
  },
  {
   "cell_type": "code",
   "execution_count": null,
   "id": "ef6fc9da",
   "metadata": {},
   "outputs": [],
   "source": [
    "class Employee:\n",
    "    empid,ename,email,salary,interest\n",
    "    def __init__(self):\n",
    "        "
   ]
  },
  {
   "cell_type": "code",
   "execution_count": null,
   "id": "7ade835b",
   "metadata": {},
   "outputs": [],
   "source": [
    "class Employee:\n",
    "    company=\"Regex\"\n",
    "    Efname=\"\"\n",
    "    Elname=\"\"\n",
    "    domain=\"\"\n",
    "    def __init__(self,a,b,c,d,e):\n",
    "        self.Eid=a\n",
    "        self.Fullname=b\n",
    "        self.Email=c\n",
    "        self.Salary=d\n",
    "        self.Interest=e\n",
    "    def Function(self):\n",
    "        print(\"employee id is:\",self.Eid)\n",
    "        list2=self.Fullname.split()\n",
    "        Efname=list2[0]\n",
    "        Elname=list2[-1]\n",
    "        list1=self.Email.split(\"@\")\n",
    "        domain=list1[1]\n",
    "        print(\"employee first name is \",Efname,\" last name is \",Elname)\n",
    "        print(\"email id domain is \", domain)\n"
   ]
  },
  {
   "cell_type": "code",
   "execution_count": 29,
   "id": "bee49139",
   "metadata": {},
   "outputs": [],
   "source": [
    "class Employee:\n",
    "    Company=\"REGEX\"\n",
    "    fname=\"\"\n",
    "    lname=\"\"\n",
    "    domain=\"\"\n",
    "    def __init__(self,a,b,c,d,e):\n",
    "        self.eid=a\n",
    "        self.fullname=b\n",
    "        self.email=c\n",
    "        self.salary=d\n",
    "        self.interest=e\n",
    "    def details(self):\n",
    "        print(f\"Employee id: \",self.eid)\n",
    "        nameList=self.fullname.split()\n",
    "        fname=nameList[0]\n",
    "        lname=nameList[-1]\n",
    "        print(f\"First name: {fname}Last name:{lname}\")\n",
    "        emailList=self.email.split(\"@\")\n",
    "        domain=emailList[1]\n",
    "        print(\"Domain :\",domain)\n"
   ]
  },
  {
   "cell_type": "code",
   "execution_count": 30,
   "id": "12375ce4",
   "metadata": {},
   "outputs": [],
   "source": [
    "e1=Employee(12,\"Hi Hey\",\"a@del.com\",12500,500)"
   ]
  },
  {
   "cell_type": "code",
   "execution_count": 31,
   "id": "5014df59",
   "metadata": {},
   "outputs": [
    {
     "name": "stdout",
     "output_type": "stream",
     "text": [
      "Employee id:  12\n",
      "First name: HiLast name:Hey\n",
      "Domain : del.com\n"
     ]
    }
   ],
   "source": [
    "e1.details()"
   ]
  },
  {
   "cell_type": "code",
   "execution_count": 32,
   "id": "3cef2401",
   "metadata": {},
   "outputs": [
    {
     "name": "stdout",
     "output_type": "stream",
     "text": [
      "10,Sanju,sanju@gmail.com,867\n",
      "1,Sahruday,sah@gmail.com,4857\n",
      "Give discount %: 50\n",
      "2428.5\n"
     ]
    }
   ],
   "source": [
    "class Driver:\n",
    "    def __init__(self,id,name,email,wallet):\n",
    "        self.id = id\n",
    "        self.name= name\n",
    "        self.email= email\n",
    "        self.wallet= wallet\n",
    "    def userinfo(self):\n",
    "        print(f\"{self.id},{self.name},{self.email},{self.wallet}\")\n",
    "d1= Driver(10,\"Sanju\",\"sanju@gmail.com\",867)\n",
    "d1.userinfo()\n",
    "class Customer(Driver):\n",
    "    def __init__(self,id,name,email,wallet,offer):\n",
    "        super().__init__(id,name,email,wallet)\n",
    "        self.offer=offer\n",
    "    def discount(self):\n",
    "        if self.offer is True:\n",
    "            d=int(input(\"Give discount %: \"))\n",
    "            a= int(self.wallet) - (int(self.wallet)*(d/100))\n",
    "        else:\n",
    "            print(\"No discount\")\n",
    "        print(a)\n",
    "a=0           \n",
    "c1=Customer(1,\"Sahruday\",\"sah@gmail.com\",4857,True)\n",
    "c1.userinfo()\n",
    "c1.discount()\n"
   ]
  },
  {
   "cell_type": "code",
   "execution_count": null,
   "id": "6a751591",
   "metadata": {},
   "outputs": [],
   "source": [
    "class obj1:\n",
    "    num1,num2\n",
    "    def __init__(self,num1,num2):\n",
    "        num1=self.num1\n",
    "        num2=self.num2\n",
    "    def __\n",
    "\n"
   ]
  },
  {
   "cell_type": "code",
   "execution_count": 34,
   "id": "4a107eea",
   "metadata": {},
   "outputs": [
    {
     "data": {
      "text/plain": [
       "False"
      ]
     },
     "execution_count": 34,
     "metadata": {},
     "output_type": "execute_result"
    }
   ],
   "source": [
    "class Test:\n",
    "    def __init__(self,a,b):\n",
    "        self.a=a\n",
    "        self.b=b\n",
    "    def __gt__(self,obj):\n",
    "        cubesum1=(self.a**3)+(self.b**3)\n",
    "        cubesum2=(obj.a**3)+(obj.b**3)\n",
    "        return cubesum1>cubesum2                       \n",
    "p1=Test(2,3)\n",
    "p2=Test(4,1)                                                         \n",
    "p1>p2\n"
   ]
  },
  {
   "cell_type": "code",
   "execution_count": 9,
   "id": "ec649704",
   "metadata": {},
   "outputs": [
    {
     "name": "stdout",
     "output_type": "stream",
     "text": [
      "Enter a number to check if armstrong: 123\n",
      "Not an armstrong number\n"
     ]
    }
   ],
   "source": [
    "#armstrong number\n",
    "inp=int(input(\"Enter a number to check if armstrong: \"))\n",
    "inp1=inp\n",
    "q=0\n",
    "sum=0\n",
    "while(inp1>0):\n",
    "    q=inp1%10\n",
    "    sum+=(q**3)\n",
    "    inp1=inp1//10\n",
    "if(sum==inp):\n",
    "    print(f\"{inp} is an armstrong number\")\n",
    "else:\n",
    "    print(\"Not an armstrong number\")"
   ]
  },
  {
   "cell_type": "code",
   "execution_count": 20,
   "id": "884aafb8",
   "metadata": {},
   "outputs": [
    {
     "name": "stdout",
     "output_type": "stream",
     "text": [
      "Enter the length for fibonacci series: 5\n",
      "0 1 1 2 3 "
     ]
    }
   ],
   "source": [
    "#fibonacci series with n numbers\n",
    "def fib(n):\n",
    "    f1=0\n",
    "    f2=1\n",
    "    f3=f1+f2\n",
    "    if(n==1):\n",
    "        print(f1)\n",
    "    elif(n==2):\n",
    "        print(f1,f2)\n",
    "    else:\n",
    "        print(f1,f2,f3,end=\" \")\n",
    "        while(n-3>0):\n",
    "            f1=f2\n",
    "            f2=f3\n",
    "            f3=f1+f2\n",
    "            print(f3, end=\" \")\n",
    "            n-=1\n",
    "            \n",
    "            \n",
    "num=int(input(\"Enter the length for fibonacci series: \"))\n",
    "fib(num)\n"
   ]
  },
  {
   "cell_type": "code",
   "execution_count": null,
   "id": "f4d98823",
   "metadata": {},
   "outputs": [],
   "source": []
  },
  {
   "cell_type": "code",
   "execution_count": null,
   "id": "880d7e0f",
   "metadata": {},
   "outputs": [],
   "source": []
  }
 ],
 "metadata": {
  "kernelspec": {
   "display_name": "Python 3 (ipykernel)",
   "language": "python",
   "name": "python3"
  },
  "language_info": {
   "codemirror_mode": {
    "name": "ipython",
    "version": 3
   },
   "file_extension": ".py",
   "mimetype": "text/x-python",
   "name": "python",
   "nbconvert_exporter": "python",
   "pygments_lexer": "ipython3",
   "version": "3.9.13"
  }
 },
 "nbformat": 4,
 "nbformat_minor": 5
}
